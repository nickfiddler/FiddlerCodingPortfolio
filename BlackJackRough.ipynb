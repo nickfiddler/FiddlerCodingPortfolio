{
  "cells": [
    {
      "cell_type": "markdown",
      "metadata": {
        "id": "view-in-github",
        "colab_type": "text"
      },
      "source": [
        "<a href=\"https://colab.research.google.com/github/nickfiddler/FiddlerCodingPortfolio/blob/main/BlackJackRough.ipynb\" target=\"_parent\"><img src=\"https://colab.research.google.com/assets/colab-badge.svg\" alt=\"Open In Colab\"/></a>"
      ]
    },
    {
      "cell_type": "markdown",
      "source": [
        "This current program allows you to play a hand of black jack if all you do is hit or stand. I wanted to include this in my github because even though it is not perfect, it has some good qualities as a program and shows that there is always room for improvement. In the future, I will be adding to it to 1. Cleaning up the program and trying to shorten it a bit 2. Add splitting and doubling down to hit or stand option 3. Having the play function return a result rather than a print f string 4. Have a pot that you can make bets and the game not being over until you lose your pot or you say end the game 5. Maybe, making it an interactive with buttons and actually looking like a table"
      ],
      "metadata": {
        "id": "uYLwLGHxZ6C9"
      }
    },
    {
      "cell_type": "markdown",
      "metadata": {
        "id": "TY9jpR-lfu51"
      },
      "source": [
        "Using a function, class, dictionary unpacking, and for loops to create a deck which is shuffled in a random order. Each \"card\" in the deck will have a number which could be 2-11, Ace, King, Queen, or Jack, a suit which will be Hearts, Diamonds, Spades, or Clubs, and a value which will be the number for non royals or ace, 10 for royals, and 11 for the ace.\n"
      ]
    },
    {
      "cell_type": "code",
      "execution_count": 1,
      "metadata": {
        "colab": {
          "base_uri": "https://localhost:8080/"
        },
        "id": "rP5sR_gffmGF",
        "outputId": "652c0554-5ea7-442d-98d0-1b2e0da33808"
      },
      "outputs": [
        {
          "output_type": "execute_result",
          "data": {
            "text/plain": [
              "52"
            ]
          },
          "metadata": {},
          "execution_count": 1
        }
      ],
      "source": [
        "import random\n",
        "\n",
        "class Card:\n",
        "    def __init__(self, suit, number, value):\n",
        "      self.suit = suit\n",
        "      self.number = number\n",
        "      self.value = value\n",
        "    def __eq__(self, other):\n",
        "      if isinstance(other,Card):\n",
        "        return self.suit == other.suit and self.number == other.number and self.value == other.value\n",
        "      return False\n",
        "    def __repr__(self):\n",
        "      return(f\"{self.number} of {self.suit}\")\n",
        "\n",
        "def shuffle():\n",
        "\n",
        "  number_values = {**{str(i): i for i in range(2, 11)}, \"Jack\": 10, \"Queen\": 10, \"King\": 10, \"Ace\": 11}\n",
        "\n",
        "  deck = [Card(suit, number, number_values[str(number)]) for suit in [\"Hearts\", \"Diamonds\", \"Spades\", \"Clubs\"]\n",
        "            for number in list(range(2, 11)) + [\"Ace\", \"Jack\", \"Queen\", \"King\"]]\n",
        "  random.shuffle(deck)\n",
        "  return deck\n",
        "\n",
        "d = shuffle()\n",
        "len(d)"
      ]
    },
    {
      "cell_type": "markdown",
      "metadata": {
        "id": "4oze84rzgWU8"
      },
      "source": [
        "Next function checks for winner based off of total value if both the dealer and player are within 17 - 21"
      ]
    },
    {
      "cell_type": "code",
      "execution_count": 2,
      "metadata": {
        "id": "Pq2oyVtOgcnt"
      },
      "outputs": [],
      "source": [
        "def checkWinner(playTotal, dealTotal):\n",
        "  if playTotal> dealTotal:\n",
        "        return \"You win\"\n",
        "  elif dealTotal > playTotal:\n",
        "        return \"The Dealer Wins\"\n",
        "  else:\n",
        "        return \"It's a draw\""
      ]
    },
    {
      "cell_type": "markdown",
      "metadata": {
        "id": "j9znKoNPgoQs"
      },
      "source": [
        "This function draws a card if called"
      ]
    },
    {
      "cell_type": "code",
      "execution_count": 3,
      "metadata": {
        "id": "7rcbXzTqgrMA"
      },
      "outputs": [],
      "source": [
        "def drawCard(deckOfCards, hand, total):\n",
        "  hand.append(deckOfCards[0])\n",
        "  total = total + deckOfCards[0].value\n",
        "  del deckOfCards[0]\n",
        "  return deckOfCards,hand, total"
      ]
    },
    {
      "cell_type": "markdown",
      "metadata": {
        "id": "Z0FADVkvh28X"
      },
      "source": [
        "This function checks the hand called for an ace. If there is an ace in the hand, it takes away 10 from the total value and marks the Ace as Ace1."
      ]
    },
    {
      "cell_type": "code",
      "execution_count": 4,
      "metadata": {
        "id": "xXno99GE4ZPX"
      },
      "outputs": [],
      "source": [
        "def checkAceBust(cardHand, value):\n",
        "  for c in cardHand:\n",
        "    if c.number == \"Ace\":\n",
        "      c.number = \"Ace1\"\n",
        "      value = value - 10\n",
        "      break\n",
        "  return cardHand, value"
      ]
    },
    {
      "cell_type": "markdown",
      "metadata": {
        "id": "G5nhcilf43Hs"
      },
      "source": [
        "BlackJack Game Function"
      ]
    },
    {
      "cell_type": "code",
      "execution_count": 5,
      "metadata": {
        "colab": {
          "base_uri": "https://localhost:8080/"
        },
        "id": "V9CT1ydLmqiO",
        "outputId": "ddb67326-fa30-4f01-857c-c64245f45fa9"
      },
      "outputs": [
        {
          "output_type": "stream",
          "name": "stdout",
          "text": [
            "Ace\n",
            "Ace1\n"
          ]
        }
      ],
      "source": [
        "c1 = Card(\"Diamond\",\"Ace\",11)\n",
        "print(c1.number)\n",
        "c1.number = \"Ace1\"\n",
        "print(c1.number)"
      ]
    },
    {
      "cell_type": "markdown",
      "source": [
        "This funciton has the dealers Hand play out"
      ],
      "metadata": {
        "id": "gIvTIJzIGJtg"
      }
    },
    {
      "cell_type": "code",
      "execution_count": 6,
      "metadata": {
        "id": "ATy-04CU421Y"
      },
      "outputs": [],
      "source": [
        "def playBlackJack():\n",
        "  #Initial card deck and initial player, dealer hands and total\n",
        "  cardDeck = shuffle()\n",
        "  playerHand = []\n",
        "  dealerHand = []\n",
        "  playersTotal = 0\n",
        "  dealersTotal = 0\n",
        "\n",
        "  #Giving out the initial cards\n",
        "  initialList = [playerHand,dealerHand]\n",
        "  for _ in range(2):\n",
        "    for i in initialList:\n",
        "      i.append(cardDeck[0])\n",
        "      del cardDeck[0]\n",
        "\n",
        "  #Creating initial total value\n",
        "  playersTotal = playerHand[0].value+playerHand[1].value\n",
        "  dealersTotal = dealerHand[0].value+dealerHand[1].value\n",
        "\n",
        "  #If either hand has two aces on the draw, this takes care of it\n",
        "  if playersTotal >21:\n",
        "    playerHand[0].number = \"Ace1\"\n",
        "    playersTotal = 12\n",
        "\n",
        "  if dealersTotal >21:\n",
        "    dealerHand[0].number = \"Ace1\"\n",
        "    dealersTotal = 12\n",
        "\n",
        "  #Showing players hand and dealers second card. First cad remains hidden\n",
        "  print(f\"Dealers's shown card: {dealerHand[1]}\")\n",
        "  print('\\n \\n')\n",
        "  print(f\"Your hand: {playerHand}\")\n",
        "\n",
        "  endGame = False\n",
        "\n",
        "  #The final part is checking hands and giving responses\n",
        "  #You get 21 and you win\n",
        "  if playersTotal == 21 and dealersTotal != 21:\n",
        "    return f\"You win! Dealers Hand is {dealerHand}\"\n",
        "  #You get 21, but the dealer has it too, so it is a push\n",
        "  elif playersTotal == 21 and dealersTotal == 21:\n",
        "    return f\"It's a push. Dealer's Hand was {dealerHand}\"\n",
        "  else:\n",
        "    hit = input(\"Would you like to hit or stay? \")\n",
        "    #You decide to stay\n",
        "    if hit == \"stay\":\n",
        "      while endGame == False:\n",
        "        #Dealer hand between 17 and 21 on the draw (The Highest it can be is 21)\n",
        "        if dealersTotal >= 17:\n",
        "          return f\"{checkWinner(playersTotal, dealersTotal)} Dealer Hand was {dealerHand} \"\n",
        "          endGame = True\n",
        "          #Dealer hand less than 17, needs to hit\n",
        "        elif dealersTotal <= 17:\n",
        "          while dealersTotal <=17:\n",
        "            #Giving the dealer a card\n",
        "            cardDeck, dealerHand,dealersTotal = drawCard(cardDeck,dealerHand,dealersTotal)\n",
        "            #Move this later\n",
        "            print(f\"Dealer's Hand is {dealerHand}\")\n",
        "            #Dealer hand was added to, now checking winner\n",
        "            if dealersTotal >=17 and dealersTotal <= 21:\n",
        "              return f\"{checkWinner(playersTotal,dealersTotal)} Dealer Hand was {dealerHand}\"\n",
        "              endGame = True\n",
        "            #Dealer Hand went over 21\n",
        "            elif dealersTotal > 21:\n",
        "              dealerHand, dealersTotal = checkAceBust(dealerHand,dealersTotal)\n",
        "              if dealersTotal > 21:\n",
        "                return f\"You win! Dealer Hand was {dealerHand}\"\n",
        "                endGame = True\n",
        "    #You decide to hit\n",
        "    elif hit ==\"hit\":\n",
        "      while hit == \"hit\" and endGame == False:\n",
        "        #Draw and Show Card\n",
        "        cardDeck,playerHand,playersTotal = drawCard(cardDeck,playerHand,playersTotal)\n",
        "        print(f\"Your Hand {playerHand}\")\n",
        "        #You first hit after initial is over 21\n",
        "        if playersTotal >21:\n",
        "          playerHand, playersTotal = checkAceBust(playerHand,playersTotal)\n",
        "          if playersTotal> 21:\n",
        "            return f\"You lose. Dealer Hand was {dealerHand}\"\n",
        "            endGame = True\n",
        "          else:\n",
        "            hit = input(\"Would you like to hit or stay? \")\n",
        "            if hit == \"stay\":\n",
        "              if dealersTotal >= 17:\n",
        "                return f\"{checkWinner(playersTotal,dealersTotal)} Dealer Hand was {dealerHand}\"\n",
        "              else:\n",
        "                while dealersTotal <17:\n",
        "                  cardDeck, dealerHand,dealersTotal = drawCard(cardDeck, dealerHand, dealersTotal)\n",
        "                  print(f\"Dealer Hand is {dealerHand}\")\n",
        "                  if dealersTotal > 21:\n",
        "                    dealerHand, dealersTotal = checkAceBust(dealerHand,dealersTotal)\n",
        "                    if dealersTotal >21:\n",
        "                      return f\"You win! Dealers Hand was {dealerHand}\"\n",
        "                      endGame = True\n",
        "                return f\"{checkWinner(playersTotal, dealersTotal)} Dealer Hand was {dealerHand}\"\n",
        "        #Player total is under 21 after first hit\n",
        "        else:\n",
        "          hit = input(\"Would you like to hit or stay? \")\n",
        "          #You decide to stay\n",
        "          if hit == \"stay\":\n",
        "            if dealersTotal >= 17:\n",
        "              return f\"{checkWinner(playersTotal,dealersTotal)} Dealer Hand was {dealerHand}\"\n",
        "            else:\n",
        "              while dealersTotal <17:\n",
        "                cardDeck, dealerHand,dealersTotal = drawCard(cardDeck, dealerHand, dealersTotal)\n",
        "                print(f\"Dealer Hand is {dealerHand}\")\n",
        "                if dealersTotal > 21:\n",
        "                  dealerHand, dealersTotal = checkAceBust(dealerHand,dealersTotal)\n",
        "                  if dealersTotal >21:\n",
        "                    return f\"You win! Dealers Hand was {dealerHand}\"\n",
        "                    endGame = True\n",
        "              return f\"{checkWinner(playersTotal, dealersTotal)} Dealer Hand was {dealerHand}\""
      ]
    },
    {
      "cell_type": "code",
      "execution_count": 10,
      "metadata": {
        "colab": {
          "base_uri": "https://localhost:8080/",
          "height": 140
        },
        "id": "2au6HmU25OCi",
        "outputId": "d5f8b616-a999-41d3-d614-c9c3fefaa6c0"
      },
      "outputs": [
        {
          "name": "stdout",
          "output_type": "stream",
          "text": [
            "Dealers's shown card: 10 of Diamonds\n",
            "\n",
            " \n",
            "\n",
            "Your hand: [Queen of Clubs, King of Clubs]\n",
            "Would you like to hit or stay? stay\n"
          ]
        },
        {
          "output_type": "execute_result",
          "data": {
            "text/plain": [
              "\"It's a draw Dealer Hand was [Jack of Spades, 10 of Diamonds] \""
            ],
            "application/vnd.google.colaboratory.intrinsic+json": {
              "type": "string"
            }
          },
          "metadata": {},
          "execution_count": 10
        }
      ],
      "source": [
        "#Calling the funciton wich allows you to play blackjack.\n",
        "#As of now you must enter hit or stay, not even Hit or Stay\n",
        "playBlackJack()"
      ]
    }
  ],
  "metadata": {
    "colab": {
      "provenance": [],
      "authorship_tag": "ABX9TyMkelNzzYvMtAgMTFLrPcCn",
      "include_colab_link": true
    },
    "kernelspec": {
      "display_name": "Python 3",
      "name": "python3"
    },
    "language_info": {
      "name": "python"
    }
  },
  "nbformat": 4,
  "nbformat_minor": 0
}